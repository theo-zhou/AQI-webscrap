{
 "cells": [
  {
   "cell_type": "code",
   "execution_count": 1,
   "metadata": {},
   "outputs": [],
   "source": [
    "import requests\n",
    "import json\n",
    "import codecs\n",
    "from bs4 import BeautifulSoup\n",
    "import time\n",
    "import re\n",
    "import os \n",
    "from os import listdir\n",
    "from os.path import isfile, join\n",
    "import datetime\n",
    "import pprint\n",
    "\n",
    "import pymongo\n",
    "from pymongo import MongoClient\n",
    "from bson.code import Code"
   ]
  },
  {
   "cell_type": "code",
   "execution_count": 2,
   "metadata": {},
   "outputs": [],
   "source": [
    "# Set up the mongodb connection\n",
    "# Time zone difference (in the morning)\n",
    "myclient = pymongo.MongoClient(\"mongodb://localhost:27017/\")\n",
    "mydb = myclient[\"AQICN\"]\n",
    "mycol = mydb[\"cities2\"]"
   ]
  },
  {
   "cell_type": "markdown",
   "metadata": {},
   "source": [
    "## Data collection process"
   ]
  },
  {
   "cell_type": "code",
   "execution_count": 3,
   "metadata": {},
   "outputs": [],
   "source": [
    "def clean(text):\n",
    "    sub1 = re.sub('[\\[\\]]','', str(text))\n",
    "    sub2 = re.sub('</?[^>]*?>','', sub1)\n",
    "    if sub2 == '-':\n",
    "        sub2 = 0\n",
    "    return sub2"
   ]
  },
  {
   "cell_type": "code",
   "execution_count": 4,
   "metadata": {},
   "outputs": [],
   "source": [
    "def collect_info(city):\n",
    "    x = datetime.datetime.now() # get the date of the data\n",
    "    day = x.strftime(\"%Y\") + '-' + x.strftime(\"%m\") + '-' + x.strftime(\"%d\")\n",
    "    cap_city = i.title()\n",
    "    \n",
    "    coordinates = my_dict[i]\n",
    "    \n",
    "    # scrap air quality from the website\n",
    "    city = city\n",
    "    URL = \"http://aqicn.org/city/\" + city\n",
    "    user_agent = {'User-agent': 'Mozilla/5.0'} \n",
    "    page = requests.get(URL, user_agent)\n",
    "    doc = BeautifulSoup(page.content, \"html.parser\")\n",
    "    \n",
    "    pm25 = doc.select(\"td[id^=cur_pm25]\")\n",
    "    o3 = doc.select(\"td[id^=cur_o3]\")\n",
    "    co = doc.select(\"td[id^=cur_co]\")\n",
    "    \n",
    "    # Weather info for the day\n",
    "    API_key = '7de6d658fa1c42bda1882604211203'\n",
    "\n",
    "    url = 'http://api.weatherapi.com/v1/history.json?key='+ API_key + '&q=' + cap_city + '&dt=' + day\n",
    "    page2 = requests.get(url)\n",
    "    doc2 = BeautifulSoup(page2.content, 'html.parser')\n",
    "    docN = json.loads(str(doc2))\n",
    "    \n",
    "    maxtemp_c = docN['forecast']['forecastday'][0]['day']['maxtemp_c']\n",
    "    mintemp_c = docN['forecast']['forecastday'][0]['day']['mintemp_c']\n",
    "    avgtemp_c = docN['forecast']['forecastday'][0]['day']['avgtemp_c']\n",
    "    maxwind_kph = docN['forecast']['forecastday'][0]['day']['maxwind_kph']\n",
    "    totalprecip_mm = docN['forecast']['forecastday'][0]['day']['totalprecip_mm']\n",
    "    avghumidity = docN['forecast']['forecastday'][0]['day']['avghumidity']\n",
    "    \n",
    "    # Dict\n",
    "    city_dict = {'name': city, 'coordinates': coordinates} \n",
    "    \n",
    "    day_dict = {'city': city_dict,\n",
    "                'date': day,\n",
    "                'pm25': int(clean(pm25)),\n",
    "                'o3': int(clean(o3)),\n",
    "                'co': int(clean(co)),\n",
    "                'maxtemp_c': maxtemp_c,\n",
    "                'mintemp_c': mintemp_c,\n",
    "                'avgtemp_c': avgtemp_c,\n",
    "                'maxwind_kph': maxwind_kph, \n",
    "                'totalprecip_mm': totalprecip_mm,\n",
    "                'avghumidity': avghumidity}\n",
    "    \n",
    "    # Save to Mongodb\n",
    "    mycol.insert_one(day_dict)"
   ]
  },
  {
   "cell_type": "code",
   "execution_count": 5,
   "metadata": {},
   "outputs": [
    {
     "name": "stdout",
     "output_type": "stream",
     "text": [
      "http://api.waqi.info/feed/shanghai/?token=0931488b1a26be1810b012b19538919778762329\n",
      "http://api.waqi.info/feed/beijing/?token=0931488b1a26be1810b012b19538919778762329\n",
      "http://api.waqi.info/feed/chongqing/?token=0931488b1a26be1810b012b19538919778762329\n"
     ]
    }
   ],
   "source": [
    "# Get geographic info from Cloud API\n",
    "cities = ['shanghai','beijing','chongqing']\n",
    "\n",
    "my_dict = { } \n",
    "token = \"0931488b1a26be1810b012b19538919778762329\"\n",
    "for i in cities:\n",
    "    time.sleep(5) # 5 second pause between queries\n",
    "    url = \"http://api.waqi.info/feed/\" + str(i) + \"/?token=\" + token\n",
    "    print(url)\n",
    "    page = requests.get(url)\n",
    "    doc = BeautifulSoup(page.content, 'html.parser')\n",
    "    json_dict = json.loads(str(doc)) # Parse the JSON strings to an internal Python object \n",
    "    geo_info = json_dict['data']['city']['geo']\n",
    "    my_dict[i] = geo_info"
   ]
  },
  {
   "cell_type": "code",
   "execution_count": 11,
   "metadata": {
    "scrolled": false
   },
   "outputs": [],
   "source": [
    "# Run this for 7 consecutive days\n",
    "for i in cities:\n",
    "    collect_info(i)"
   ]
  },
  {
   "cell_type": "code",
   "execution_count": 50,
   "metadata": {},
   "outputs": [
    {
     "data": {
      "text/plain": [
       "'coordinates_2dsphere'"
      ]
     },
     "execution_count": 50,
     "metadata": {},
     "output_type": "execute_result"
    }
   ],
   "source": [
    "# Creating index on the coordinates\n",
    "mydb.cities.create_index([('coordinates', \"2dsphere\")] )"
   ]
  },
  {
   "cell_type": "markdown",
   "metadata": {},
   "source": [
    "## Data analysis process"
   ]
  },
  {
   "cell_type": "code",
   "execution_count": 12,
   "metadata": {},
   "outputs": [
    {
     "name": "stdout",
     "output_type": "stream",
     "text": [
      "{'_id': ObjectId('604d620a66fb6ee0345bacf9'),\n",
      " 'city': {'name': 'shanghai',\n",
      "          'coordinates': [31.2047372,\n",
      "                          121.4489017]},\n",
      " 'date': '2021-03-12',\n",
      " 'pm25': 107,\n",
      " 'o3': 23,\n",
      " 'co': 8,\n",
      " 'maxtemp_c': 14.1,\n",
      " 'mintemp_c': 10.8,\n",
      " 'avgtemp_c': 12.5,\n",
      " 'maxwind_kph': 15.8,\n",
      " 'totalprecip_mm': 0.0,\n",
      " 'avghumidity': 75.0}\n"
     ]
    }
   ],
   "source": [
    "# Test to see one object\n",
    "a = mycol.find_one()\n",
    "pprint.pprint(a, width = 2,sort_dicts=False)\n",
    "\n",
    "# A list of all the keys\n",
    "mycol_keys = ['_id', 'city', 'coordinates' ,'date', 'pm25', 'o3', 'co', 'maxtemp_c', 'mintemp_c', 'avgtemp_c', 'maxwind_kph', 'totalprecip_mm', 'avghumidity']"
   ]
  },
  {
   "cell_type": "code",
   "execution_count": 13,
   "metadata": {},
   "outputs": [
    {
     "name": "stdout",
     "output_type": "stream",
     "text": [
      "{'_id': 'shanghai', 'value': 91.42857142857143}\n",
      "{'_id': 'chongqing', 'value': 128.14285714285714}\n",
      "{'_id': 'beijing', 'value': 167.85714285714286}\n"
     ]
    }
   ],
   "source": [
    "# Comparing the average PM2.5 across the three cities\n",
    "# map reduce\n",
    "db_map = Code('''\n",
    "                function() { emit(this.city, this.pm25); }\n",
    "               ''')\n",
    "\n",
    "db_reduce = Code('''\n",
    "    function(key, values) {\n",
    "        return Array.avg(values);\n",
    "    }\n",
    "                  ''')\n",
    "\n",
    "pm25_avg = mydb.cities.map_reduce(db_map, db_reduce, \"pm25_avg\")\n",
    "\n",
    "# Print the first 100 entires\n",
    "for i in pm25_avg.find():\n",
    "    print(i)"
   ]
  },
  {
   "cell_type": "markdown",
   "metadata": {},
   "source": [
    "The average values of PM2.5 over the seven days show that Beijing has the worst air quality, and Shanghai has the best air quality within the three cities."
   ]
  },
  {
   "cell_type": "code",
   "execution_count": 30,
   "metadata": {},
   "outputs": [],
   "source": [
    "# sort pm2.5 ascending\n",
    "# You can change the city's name to explore whether other features related to the city show a similar trend as the values of PM2.5\n",
    "def sorted_pm25(value):\n",
    "    sort_pm25 = mycol.find( { '$query': {'city.name': 'shanghai'}, '$orderby': { 'pm25' : 1 } } )\n",
    "    print(value)\n",
    "    for i in sort_pm25:\n",
    "        print(i[value])"
   ]
  },
  {
   "cell_type": "code",
   "execution_count": 31,
   "metadata": {},
   "outputs": [
    {
     "name": "stdout",
     "output_type": "stream",
     "text": [
      "pm25\n",
      "67\n",
      "77\n",
      "84\n",
      "89\n",
      "105\n",
      "107\n",
      "111\n",
      " \n",
      "o3\n",
      "33\n",
      "30\n",
      "43\n",
      "25\n",
      "36\n",
      "23\n",
      "24\n",
      " \n",
      "co\n",
      "5\n",
      "5\n",
      "5\n",
      "5\n",
      "6\n",
      "8\n",
      "7\n",
      " \n",
      "maxtemp_c\n",
      "14.8\n",
      "10.8\n",
      "16.7\n",
      "13.7\n",
      "11.3\n",
      "14.1\n",
      "12.4\n",
      " \n",
      "mintemp_c\n",
      "3.1\n",
      "8.3\n",
      "9.0\n",
      "10.1\n",
      "8.6\n",
      "10.8\n",
      "10.1\n",
      " \n",
      "avgtemp_c\n",
      "12.6\n",
      "9.7\n",
      "14.0\n",
      "12.0\n",
      "10.6\n",
      "12.5\n",
      "11.5\n",
      " \n",
      "maxwind_kph\n",
      "13.7\n",
      "13.0\n",
      "15.1\n",
      "10.1\n",
      "16.6\n",
      "15.8\n",
      "12.2\n",
      " \n",
      "totalprecip_mm\n",
      "0.0\n",
      "4.5\n",
      "0.0\n",
      "0.0\n",
      "2.0\n",
      "0.0\n",
      "3.7\n",
      " \n",
      "avghumidity\n",
      "73.0\n",
      "86.0\n",
      "63.0\n",
      "70.0\n",
      "75.0\n",
      "75.0\n",
      "85.0\n",
      " \n"
     ]
    }
   ],
   "source": [
    "for i in mycol_keys[4:]:\n",
    "    value = i\n",
    "    sorted_pm25(value)\n",
    "    print(' ')"
   ]
  },
  {
   "cell_type": "markdown",
   "metadata": {},
   "source": [
    "It is hard to tell whether PM2.5 has any relationships with the other features.\n",
    "We will divide the PM2.5 values into high and low and set them as conditions for comparison."
   ]
  },
  {
   "cell_type": "markdown",
   "metadata": {},
   "source": [
    "According to https://blissair.com/what-is-pm-2-5.htm, a PM2.5 of above 150 means the air quality is unhealthy. Thus, we will use this value to divide up the PM2.5 values in our database."
   ]
  },
  {
   "cell_type": "markdown",
   "metadata": {},
   "source": [
    "### For PM2.5 greater than 150"
   ]
  },
  {
   "cell_type": "code",
   "execution_count": 32,
   "metadata": {},
   "outputs": [],
   "source": [
    "# map reduce\n",
    "def unhealthy(value):\n",
    "    reduce = 'function() { emit(this.city, this.' + value + '); }'\n",
    "    db_map_above = Code(reduce)\n",
    "\n",
    "    db_reduce_above = Code('''\n",
    "        function(key, values) {\n",
    "            return Array.avg(values);\n",
    "        }\n",
    "                      ''')\n",
    "\n",
    "    pm25_above = mydb.cities.map_reduce(db_map_above, db_reduce_above, \"pm25_avg\", query = { 'pm25': { '$gte': 150 } })\n",
    "\n",
    "    # Print the first 100 entires\n",
    "    for i in pm25_above.find():\n",
    "        print(i)"
   ]
  },
  {
   "cell_type": "markdown",
   "metadata": {},
   "source": [
    "### For PM2.5 less than 150"
   ]
  },
  {
   "cell_type": "code",
   "execution_count": 33,
   "metadata": {},
   "outputs": [],
   "source": [
    "# map reduce\n",
    "def healthier(value):\n",
    "    reduce = 'function() { emit(this.city, this.' + value + '); }'\n",
    "    db_map_above = Code(reduce)\n",
    "\n",
    "    db_reduce_above = Code('''\n",
    "        function(key, values) {\n",
    "            return Array.avg(values);\n",
    "        }\n",
    "                      ''')\n",
    "\n",
    "    pm25_above = mydb.cities.map_reduce(db_map_above, db_reduce_above, \"pm25_avg\", query = { 'pm25': { '$lt': 150 } })\n",
    "\n",
    "    # Print the first 100 entires\n",
    "    for i in pm25_above.find():\n",
    "        print(i)"
   ]
  },
  {
   "cell_type": "markdown",
   "metadata": {},
   "source": [
    "### Compare results"
   ]
  },
  {
   "cell_type": "code",
   "execution_count": 35,
   "metadata": {},
   "outputs": [
    {
     "name": "stdout",
     "output_type": "stream",
     "text": [
      "o3\n",
      "{'_id': 'chongqing', 'value': 23.0}\n",
      "{'_id': 'beijing', 'value': 30.2}\n",
      " \n",
      "co\n",
      "{'_id': 'beijing', 'value': 9.0}\n",
      "{'_id': 'chongqing', 'value': 11.0}\n",
      " \n",
      "maxtemp_c\n",
      "{'_id': 'beijing', 'value': 13.6}\n",
      "{'_id': 'chongqing', 'value': 13.9}\n",
      " \n",
      "mintemp_c\n",
      "{'_id': 'chongqing', 'value': 12.1}\n",
      "{'_id': 'beijing', 'value': 6.540000000000001}\n",
      " \n",
      "avgtemp_c\n",
      "{'_id': 'chongqing', 'value': 13.3}\n",
      "{'_id': 'beijing', 'value': 10.48}\n",
      " \n",
      "maxwind_kph\n",
      "{'_id': 'beijing', 'value': 10.72}\n",
      "{'_id': 'chongqing', 'value': 9.0}\n",
      " \n",
      "totalprecip_mm\n",
      "{'_id': 'chongqing', 'value': 0.2}\n",
      "{'_id': 'beijing', 'value': 0.2}\n",
      " \n",
      "avghumidity\n",
      "{'_id': 'chongqing', 'value': 77.0}\n",
      "{'_id': 'beijing', 'value': 47.0}\n",
      " \n"
     ]
    }
   ],
   "source": [
    "for i in mycol_keys[5:]:\n",
    "    value = i\n",
    "    print(value)\n",
    "    unhealthy(value)\n",
    "    print(' ')"
   ]
  },
  {
   "cell_type": "code",
   "execution_count": 36,
   "metadata": {},
   "outputs": [
    {
     "name": "stdout",
     "output_type": "stream",
     "text": [
      "o3\n",
      "{'_id': 'shanghai', 'value': 30.571428571428573}\n",
      "{'_id': 'chongqing', 'value': 24.166666666666668}\n",
      "{'_id': 'beijing', 'value': 23.5}\n",
      " \n",
      "co\n",
      "{'_id': 'shanghai', 'value': 5.857142857142857}\n",
      "{'_id': 'beijing', 'value': 6.0}\n",
      "{'_id': 'chongqing', 'value': 6.666666666666667}\n",
      " \n",
      "maxtemp_c\n",
      "{'_id': 'shanghai', 'value': 13.400000000000002}\n",
      "{'_id': 'beijing', 'value': 12.1}\n",
      "{'_id': 'chongqing', 'value': 17.366666666666664}\n",
      " \n",
      "mintemp_c\n",
      "{'_id': 'shanghai', 'value': 8.571428571428571}\n",
      "{'_id': 'beijing', 'value': 2.35}\n",
      "{'_id': 'chongqing', 'value': 13.799999999999999}\n",
      " \n",
      "avgtemp_c\n",
      "{'_id': 'chongqing', 'value': 15.666666666666666}\n",
      "{'_id': 'beijing', 'value': 7.8}\n",
      "{'_id': 'shanghai', 'value': 11.842857142857143}\n",
      " \n",
      "maxwind_kph\n",
      "{'_id': 'chongqing', 'value': 9.116666666666667}\n",
      "{'_id': 'beijing', 'value': 9.149999999999999}\n",
      "{'_id': 'shanghai', 'value': 13.785714285714286}\n",
      " \n",
      "totalprecip_mm\n",
      "{'_id': 'shanghai', 'value': 1.457142857142857}\n",
      "{'_id': 'beijing', 'value': 0.0}\n",
      "{'_id': 'chongqing', 'value': 1.0666666666666667}\n",
      " \n",
      "avghumidity\n",
      "{'_id': 'shanghai', 'value': 75.28571428571429}\n",
      "{'_id': 'beijing', 'value': 42.5}\n",
      "{'_id': 'chongqing', 'value': 69.16666666666667}\n",
      " \n"
     ]
    }
   ],
   "source": [
    "for i in mycol_keys[5:]:\n",
    "    value = i\n",
    "    print(value)\n",
    "    healthier(value)\n",
    "    print(' ')"
   ]
  },
  {
   "cell_type": "markdown",
   "metadata": {},
   "source": [
    "1. Higher average CO when the PM2.5 is high;\n",
    "2. Less rain when the PM2.5 is high;\n",
    "3. Higher humidity when the PM2.5 is high;\n",
    "4. We thought wind would have an effect, but the difference is not obvious from the data collected.\n",
    "\n",
    "More days of data need to be collected for more accurate analysis."
   ]
  },
  {
   "cell_type": "code",
   "execution_count": null,
   "metadata": {},
   "outputs": [],
   "source": []
  }
 ],
 "metadata": {
  "kernelspec": {
   "display_name": "Python 3",
   "language": "python",
   "name": "python3"
  },
  "language_info": {
   "codemirror_mode": {
    "name": "ipython",
    "version": 3
   },
   "file_extension": ".py",
   "mimetype": "text/x-python",
   "name": "python",
   "nbconvert_exporter": "python",
   "pygments_lexer": "ipython3",
   "version": "3.8.3"
  }
 },
 "nbformat": 4,
 "nbformat_minor": 4
}
